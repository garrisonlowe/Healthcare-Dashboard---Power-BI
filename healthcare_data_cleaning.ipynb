{
 "cells": [
  {
   "cell_type": "markdown",
   "metadata": {},
   "source": [
    "## Data Cleaning"
   ]
  },
  {
   "cell_type": "code",
   "execution_count": 24,
   "metadata": {},
   "outputs": [
    {
     "data": {
      "application/vnd.microsoft.datawrangler.viewer.v0+json": {
       "columns": [
        {
         "name": "index",
         "rawType": "int64",
         "type": "integer"
        },
        {
         "name": "Name",
         "rawType": "object",
         "type": "string"
        },
        {
         "name": "Age",
         "rawType": "int64",
         "type": "integer"
        },
        {
         "name": "Gender",
         "rawType": "object",
         "type": "string"
        },
        {
         "name": "Blood Type",
         "rawType": "object",
         "type": "string"
        },
        {
         "name": "Medical Condition",
         "rawType": "object",
         "type": "string"
        },
        {
         "name": "Date of Admission",
         "rawType": "object",
         "type": "string"
        },
        {
         "name": "Doctor",
         "rawType": "object",
         "type": "string"
        },
        {
         "name": "Hospital",
         "rawType": "object",
         "type": "string"
        },
        {
         "name": "Insurance Provider",
         "rawType": "object",
         "type": "string"
        },
        {
         "name": "Billing Amount",
         "rawType": "float64",
         "type": "float"
        },
        {
         "name": "Room Number",
         "rawType": "int64",
         "type": "integer"
        },
        {
         "name": "Admission Type",
         "rawType": "object",
         "type": "string"
        },
        {
         "name": "Discharge Date",
         "rawType": "object",
         "type": "string"
        },
        {
         "name": "Medication",
         "rawType": "object",
         "type": "string"
        },
        {
         "name": "Test Results",
         "rawType": "object",
         "type": "string"
        }
       ],
       "conversionMethod": "pd.DataFrame",
       "ref": "98462a27-b6b1-4b58-84fd-4b0910939423",
       "rows": [
        [
         "0",
         "Bobby JacksOn",
         "30",
         "Male",
         "B-",
         "Cancer",
         "2024-01-31",
         "Matthew Smith",
         "Sons and Miller",
         "Blue Cross",
         "18856.281305978155",
         "328",
         "Urgent",
         "2024-02-02",
         "Paracetamol",
         "Normal"
        ],
        [
         "1",
         "LesLie TErRy",
         "62",
         "Male",
         "A+",
         "Obesity",
         "2019-08-20",
         "Samantha Davies",
         "Kim Inc",
         "Medicare",
         "33643.327286577885",
         "265",
         "Emergency",
         "2019-08-26",
         "Ibuprofen",
         "Inconclusive"
        ],
        [
         "2",
         "DaNnY sMitH",
         "76",
         "Female",
         "A-",
         "Obesity",
         "2022-09-22",
         "Tiffany Mitchell",
         "Cook PLC",
         "Aetna",
         "27955.096078842456",
         "205",
         "Emergency",
         "2022-10-07",
         "Aspirin",
         "Normal"
        ],
        [
         "3",
         "andrEw waTtS",
         "28",
         "Female",
         "O+",
         "Diabetes",
         "2020-11-18",
         "Kevin Wells",
         "Hernandez Rogers and Vang,",
         "Medicare",
         "37909.78240987528",
         "450",
         "Elective",
         "2020-12-18",
         "Ibuprofen",
         "Abnormal"
        ],
        [
         "4",
         "adrIENNE bEll",
         "43",
         "Female",
         "AB+",
         "Cancer",
         "2022-09-19",
         "Kathleen Hanna",
         "White-White",
         "Aetna",
         "14238.317813937623",
         "458",
         "Urgent",
         "2022-10-09",
         "Penicillin",
         "Abnormal"
        ]
       ],
       "shape": {
        "columns": 15,
        "rows": 5
       }
      },
      "text/html": [
       "<div>\n",
       "<style scoped>\n",
       "    .dataframe tbody tr th:only-of-type {\n",
       "        vertical-align: middle;\n",
       "    }\n",
       "\n",
       "    .dataframe tbody tr th {\n",
       "        vertical-align: top;\n",
       "    }\n",
       "\n",
       "    .dataframe thead th {\n",
       "        text-align: right;\n",
       "    }\n",
       "</style>\n",
       "<table border=\"1\" class=\"dataframe\">\n",
       "  <thead>\n",
       "    <tr style=\"text-align: right;\">\n",
       "      <th></th>\n",
       "      <th>Name</th>\n",
       "      <th>Age</th>\n",
       "      <th>Gender</th>\n",
       "      <th>Blood Type</th>\n",
       "      <th>Medical Condition</th>\n",
       "      <th>Date of Admission</th>\n",
       "      <th>Doctor</th>\n",
       "      <th>Hospital</th>\n",
       "      <th>Insurance Provider</th>\n",
       "      <th>Billing Amount</th>\n",
       "      <th>Room Number</th>\n",
       "      <th>Admission Type</th>\n",
       "      <th>Discharge Date</th>\n",
       "      <th>Medication</th>\n",
       "      <th>Test Results</th>\n",
       "    </tr>\n",
       "  </thead>\n",
       "  <tbody>\n",
       "    <tr>\n",
       "      <th>0</th>\n",
       "      <td>Bobby JacksOn</td>\n",
       "      <td>30</td>\n",
       "      <td>Male</td>\n",
       "      <td>B-</td>\n",
       "      <td>Cancer</td>\n",
       "      <td>2024-01-31</td>\n",
       "      <td>Matthew Smith</td>\n",
       "      <td>Sons and Miller</td>\n",
       "      <td>Blue Cross</td>\n",
       "      <td>18856.281306</td>\n",
       "      <td>328</td>\n",
       "      <td>Urgent</td>\n",
       "      <td>2024-02-02</td>\n",
       "      <td>Paracetamol</td>\n",
       "      <td>Normal</td>\n",
       "    </tr>\n",
       "    <tr>\n",
       "      <th>1</th>\n",
       "      <td>LesLie TErRy</td>\n",
       "      <td>62</td>\n",
       "      <td>Male</td>\n",
       "      <td>A+</td>\n",
       "      <td>Obesity</td>\n",
       "      <td>2019-08-20</td>\n",
       "      <td>Samantha Davies</td>\n",
       "      <td>Kim Inc</td>\n",
       "      <td>Medicare</td>\n",
       "      <td>33643.327287</td>\n",
       "      <td>265</td>\n",
       "      <td>Emergency</td>\n",
       "      <td>2019-08-26</td>\n",
       "      <td>Ibuprofen</td>\n",
       "      <td>Inconclusive</td>\n",
       "    </tr>\n",
       "    <tr>\n",
       "      <th>2</th>\n",
       "      <td>DaNnY sMitH</td>\n",
       "      <td>76</td>\n",
       "      <td>Female</td>\n",
       "      <td>A-</td>\n",
       "      <td>Obesity</td>\n",
       "      <td>2022-09-22</td>\n",
       "      <td>Tiffany Mitchell</td>\n",
       "      <td>Cook PLC</td>\n",
       "      <td>Aetna</td>\n",
       "      <td>27955.096079</td>\n",
       "      <td>205</td>\n",
       "      <td>Emergency</td>\n",
       "      <td>2022-10-07</td>\n",
       "      <td>Aspirin</td>\n",
       "      <td>Normal</td>\n",
       "    </tr>\n",
       "    <tr>\n",
       "      <th>3</th>\n",
       "      <td>andrEw waTtS</td>\n",
       "      <td>28</td>\n",
       "      <td>Female</td>\n",
       "      <td>O+</td>\n",
       "      <td>Diabetes</td>\n",
       "      <td>2020-11-18</td>\n",
       "      <td>Kevin Wells</td>\n",
       "      <td>Hernandez Rogers and Vang,</td>\n",
       "      <td>Medicare</td>\n",
       "      <td>37909.782410</td>\n",
       "      <td>450</td>\n",
       "      <td>Elective</td>\n",
       "      <td>2020-12-18</td>\n",
       "      <td>Ibuprofen</td>\n",
       "      <td>Abnormal</td>\n",
       "    </tr>\n",
       "    <tr>\n",
       "      <th>4</th>\n",
       "      <td>adrIENNE bEll</td>\n",
       "      <td>43</td>\n",
       "      <td>Female</td>\n",
       "      <td>AB+</td>\n",
       "      <td>Cancer</td>\n",
       "      <td>2022-09-19</td>\n",
       "      <td>Kathleen Hanna</td>\n",
       "      <td>White-White</td>\n",
       "      <td>Aetna</td>\n",
       "      <td>14238.317814</td>\n",
       "      <td>458</td>\n",
       "      <td>Urgent</td>\n",
       "      <td>2022-10-09</td>\n",
       "      <td>Penicillin</td>\n",
       "      <td>Abnormal</td>\n",
       "    </tr>\n",
       "  </tbody>\n",
       "</table>\n",
       "</div>"
      ],
      "text/plain": [
       "            Name  Age  Gender Blood Type Medical Condition Date of Admission  \\\n",
       "0  Bobby JacksOn   30    Male         B-            Cancer        2024-01-31   \n",
       "1   LesLie TErRy   62    Male         A+           Obesity        2019-08-20   \n",
       "2    DaNnY sMitH   76  Female         A-           Obesity        2022-09-22   \n",
       "3   andrEw waTtS   28  Female         O+          Diabetes        2020-11-18   \n",
       "4  adrIENNE bEll   43  Female        AB+            Cancer        2022-09-19   \n",
       "\n",
       "             Doctor                    Hospital Insurance Provider  \\\n",
       "0     Matthew Smith             Sons and Miller         Blue Cross   \n",
       "1   Samantha Davies                     Kim Inc           Medicare   \n",
       "2  Tiffany Mitchell                    Cook PLC              Aetna   \n",
       "3       Kevin Wells  Hernandez Rogers and Vang,           Medicare   \n",
       "4    Kathleen Hanna                 White-White              Aetna   \n",
       "\n",
       "   Billing Amount  Room Number Admission Type Discharge Date   Medication  \\\n",
       "0    18856.281306          328         Urgent     2024-02-02  Paracetamol   \n",
       "1    33643.327287          265      Emergency     2019-08-26    Ibuprofen   \n",
       "2    27955.096079          205      Emergency     2022-10-07      Aspirin   \n",
       "3    37909.782410          450       Elective     2020-12-18    Ibuprofen   \n",
       "4    14238.317814          458         Urgent     2022-10-09   Penicillin   \n",
       "\n",
       "   Test Results  \n",
       "0        Normal  \n",
       "1  Inconclusive  \n",
       "2        Normal  \n",
       "3      Abnormal  \n",
       "4      Abnormal  "
      ]
     },
     "execution_count": 24,
     "metadata": {},
     "output_type": "execute_result"
    }
   ],
   "source": [
    "import pandas as pd\n",
    "data = pd.read_csv('healthcare_dataset_raw.csv')\n",
    "df = pd.DataFrame(data)\n",
    "\n",
    "df.head()"
   ]
  },
  {
   "cell_type": "code",
   "execution_count": 25,
   "metadata": {},
   "outputs": [
    {
     "data": {
      "text/plain": [
       "Name                   object\n",
       "Age                     int64\n",
       "Gender                 object\n",
       "Blood Type             object\n",
       "Medical Condition      object\n",
       "Date of Admission      object\n",
       "Doctor                 object\n",
       "Hospital               object\n",
       "Insurance Provider     object\n",
       "Billing Amount        float64\n",
       "Room Number             int64\n",
       "Admission Type         object\n",
       "Discharge Date         object\n",
       "Medication             object\n",
       "Test Results           object\n",
       "dtype: object"
      ]
     },
     "execution_count": 25,
     "metadata": {},
     "output_type": "execute_result"
    }
   ],
   "source": [
    "# Check the data types of the columns\n",
    "df.dtypes"
   ]
  },
  {
   "cell_type": "code",
   "execution_count": 26,
   "metadata": {},
   "outputs": [
    {
     "data": {
      "text/plain": [
       "Gender\n",
       "Male      27774\n",
       "Female    27726\n",
       "Name: count, dtype: int64"
      ]
     },
     "execution_count": 26,
     "metadata": {},
     "output_type": "execute_result"
    }
   ],
   "source": [
    "# Checking the values in the 'Gender' column\n",
    "df['Gender'].value_counts()"
   ]
  },
  {
   "cell_type": "code",
   "execution_count": 27,
   "metadata": {},
   "outputs": [
    {
     "data": {
      "text/plain": [
       "Medication\n",
       "Lipitor        11140\n",
       "Ibuprofen      11127\n",
       "Aspirin        11094\n",
       "Paracetamol    11071\n",
       "Penicillin     11068\n",
       "Name: count, dtype: int64"
      ]
     },
     "execution_count": 27,
     "metadata": {},
     "output_type": "execute_result"
    }
   ],
   "source": [
    "# Checking the values in the 'Medication' column\n",
    "df['Medication'].value_counts()"
   ]
  },
  {
   "cell_type": "code",
   "execution_count": 28,
   "metadata": {},
   "outputs": [
    {
     "data": {
      "text/plain": [
       "Test Results\n",
       "Abnormal        18627\n",
       "Normal          18517\n",
       "Inconclusive    18356\n",
       "Name: count, dtype: int64"
      ]
     },
     "execution_count": 28,
     "metadata": {},
     "output_type": "execute_result"
    }
   ],
   "source": [
    "# Checking the values in the 'Test Results' column\n",
    "df['Test Results'].value_counts()"
   ]
  },
  {
   "cell_type": "code",
   "execution_count": 29,
   "metadata": {},
   "outputs": [],
   "source": [
    "# Round the 'Billing Amount' column to 2 decimal places\n",
    "df['Billing Amount'] = df['Billing Amount'].round(2)"
   ]
  },
  {
   "cell_type": "code",
   "execution_count": 30,
   "metadata": {},
   "outputs": [
    {
     "data": {
      "application/vnd.microsoft.datawrangler.viewer.v0+json": {
       "columns": [
        {
         "name": "index",
         "rawType": "int64",
         "type": "integer"
        },
        {
         "name": "Name",
         "rawType": "object",
         "type": "string"
        },
        {
         "name": "Age",
         "rawType": "int64",
         "type": "integer"
        },
        {
         "name": "Gender",
         "rawType": "object",
         "type": "string"
        },
        {
         "name": "Blood Type",
         "rawType": "object",
         "type": "string"
        },
        {
         "name": "Medical Condition",
         "rawType": "object",
         "type": "string"
        },
        {
         "name": "Date of Admission",
         "rawType": "object",
         "type": "string"
        },
        {
         "name": "Doctor",
         "rawType": "object",
         "type": "string"
        },
        {
         "name": "Hospital",
         "rawType": "object",
         "type": "string"
        },
        {
         "name": "Insurance Provider",
         "rawType": "object",
         "type": "string"
        },
        {
         "name": "Billing Amount",
         "rawType": "float64",
         "type": "float"
        },
        {
         "name": "Room Number",
         "rawType": "int64",
         "type": "integer"
        },
        {
         "name": "Admission Type",
         "rawType": "object",
         "type": "string"
        },
        {
         "name": "Discharge Date",
         "rawType": "object",
         "type": "string"
        },
        {
         "name": "Medication",
         "rawType": "object",
         "type": "string"
        },
        {
         "name": "Test Results",
         "rawType": "object",
         "type": "string"
        }
       ],
       "conversionMethod": "pd.DataFrame",
       "ref": "51e22d08-1ff6-4bf9-a66d-3f54389d8abf",
       "rows": [
        [
         "0",
         "Bobby JacksOn",
         "30",
         "Male",
         "B-",
         "Cancer",
         "2024-01-31",
         "Matthew Smith",
         "Sons and Miller",
         "Blue Cross",
         "18856.28",
         "328",
         "Urgent",
         "2024-02-02",
         "Paracetamol",
         "Normal"
        ],
        [
         "1",
         "LesLie TErRy",
         "62",
         "Male",
         "A+",
         "Obesity",
         "2019-08-20",
         "Samantha Davies",
         "Kim Inc",
         "Medicare",
         "33643.33",
         "265",
         "Emergency",
         "2019-08-26",
         "Ibuprofen",
         "Inconclusive"
        ],
        [
         "2",
         "DaNnY sMitH",
         "76",
         "Female",
         "A-",
         "Obesity",
         "2022-09-22",
         "Tiffany Mitchell",
         "Cook PLC",
         "Aetna",
         "27955.1",
         "205",
         "Emergency",
         "2022-10-07",
         "Aspirin",
         "Normal"
        ],
        [
         "3",
         "andrEw waTtS",
         "28",
         "Female",
         "O+",
         "Diabetes",
         "2020-11-18",
         "Kevin Wells",
         "Hernandez Rogers and Vang,",
         "Medicare",
         "37909.78",
         "450",
         "Elective",
         "2020-12-18",
         "Ibuprofen",
         "Abnormal"
        ],
        [
         "4",
         "adrIENNE bEll",
         "43",
         "Female",
         "AB+",
         "Cancer",
         "2022-09-19",
         "Kathleen Hanna",
         "White-White",
         "Aetna",
         "14238.32",
         "458",
         "Urgent",
         "2022-10-09",
         "Penicillin",
         "Abnormal"
        ]
       ],
       "shape": {
        "columns": 15,
        "rows": 5
       }
      },
      "text/html": [
       "<div>\n",
       "<style scoped>\n",
       "    .dataframe tbody tr th:only-of-type {\n",
       "        vertical-align: middle;\n",
       "    }\n",
       "\n",
       "    .dataframe tbody tr th {\n",
       "        vertical-align: top;\n",
       "    }\n",
       "\n",
       "    .dataframe thead th {\n",
       "        text-align: right;\n",
       "    }\n",
       "</style>\n",
       "<table border=\"1\" class=\"dataframe\">\n",
       "  <thead>\n",
       "    <tr style=\"text-align: right;\">\n",
       "      <th></th>\n",
       "      <th>Name</th>\n",
       "      <th>Age</th>\n",
       "      <th>Gender</th>\n",
       "      <th>Blood Type</th>\n",
       "      <th>Medical Condition</th>\n",
       "      <th>Date of Admission</th>\n",
       "      <th>Doctor</th>\n",
       "      <th>Hospital</th>\n",
       "      <th>Insurance Provider</th>\n",
       "      <th>Billing Amount</th>\n",
       "      <th>Room Number</th>\n",
       "      <th>Admission Type</th>\n",
       "      <th>Discharge Date</th>\n",
       "      <th>Medication</th>\n",
       "      <th>Test Results</th>\n",
       "    </tr>\n",
       "  </thead>\n",
       "  <tbody>\n",
       "    <tr>\n",
       "      <th>0</th>\n",
       "      <td>Bobby JacksOn</td>\n",
       "      <td>30</td>\n",
       "      <td>Male</td>\n",
       "      <td>B-</td>\n",
       "      <td>Cancer</td>\n",
       "      <td>2024-01-31</td>\n",
       "      <td>Matthew Smith</td>\n",
       "      <td>Sons and Miller</td>\n",
       "      <td>Blue Cross</td>\n",
       "      <td>18856.28</td>\n",
       "      <td>328</td>\n",
       "      <td>Urgent</td>\n",
       "      <td>2024-02-02</td>\n",
       "      <td>Paracetamol</td>\n",
       "      <td>Normal</td>\n",
       "    </tr>\n",
       "    <tr>\n",
       "      <th>1</th>\n",
       "      <td>LesLie TErRy</td>\n",
       "      <td>62</td>\n",
       "      <td>Male</td>\n",
       "      <td>A+</td>\n",
       "      <td>Obesity</td>\n",
       "      <td>2019-08-20</td>\n",
       "      <td>Samantha Davies</td>\n",
       "      <td>Kim Inc</td>\n",
       "      <td>Medicare</td>\n",
       "      <td>33643.33</td>\n",
       "      <td>265</td>\n",
       "      <td>Emergency</td>\n",
       "      <td>2019-08-26</td>\n",
       "      <td>Ibuprofen</td>\n",
       "      <td>Inconclusive</td>\n",
       "    </tr>\n",
       "    <tr>\n",
       "      <th>2</th>\n",
       "      <td>DaNnY sMitH</td>\n",
       "      <td>76</td>\n",
       "      <td>Female</td>\n",
       "      <td>A-</td>\n",
       "      <td>Obesity</td>\n",
       "      <td>2022-09-22</td>\n",
       "      <td>Tiffany Mitchell</td>\n",
       "      <td>Cook PLC</td>\n",
       "      <td>Aetna</td>\n",
       "      <td>27955.10</td>\n",
       "      <td>205</td>\n",
       "      <td>Emergency</td>\n",
       "      <td>2022-10-07</td>\n",
       "      <td>Aspirin</td>\n",
       "      <td>Normal</td>\n",
       "    </tr>\n",
       "    <tr>\n",
       "      <th>3</th>\n",
       "      <td>andrEw waTtS</td>\n",
       "      <td>28</td>\n",
       "      <td>Female</td>\n",
       "      <td>O+</td>\n",
       "      <td>Diabetes</td>\n",
       "      <td>2020-11-18</td>\n",
       "      <td>Kevin Wells</td>\n",
       "      <td>Hernandez Rogers and Vang,</td>\n",
       "      <td>Medicare</td>\n",
       "      <td>37909.78</td>\n",
       "      <td>450</td>\n",
       "      <td>Elective</td>\n",
       "      <td>2020-12-18</td>\n",
       "      <td>Ibuprofen</td>\n",
       "      <td>Abnormal</td>\n",
       "    </tr>\n",
       "    <tr>\n",
       "      <th>4</th>\n",
       "      <td>adrIENNE bEll</td>\n",
       "      <td>43</td>\n",
       "      <td>Female</td>\n",
       "      <td>AB+</td>\n",
       "      <td>Cancer</td>\n",
       "      <td>2022-09-19</td>\n",
       "      <td>Kathleen Hanna</td>\n",
       "      <td>White-White</td>\n",
       "      <td>Aetna</td>\n",
       "      <td>14238.32</td>\n",
       "      <td>458</td>\n",
       "      <td>Urgent</td>\n",
       "      <td>2022-10-09</td>\n",
       "      <td>Penicillin</td>\n",
       "      <td>Abnormal</td>\n",
       "    </tr>\n",
       "  </tbody>\n",
       "</table>\n",
       "</div>"
      ],
      "text/plain": [
       "            Name  Age  Gender Blood Type Medical Condition Date of Admission  \\\n",
       "0  Bobby JacksOn   30    Male         B-            Cancer        2024-01-31   \n",
       "1   LesLie TErRy   62    Male         A+           Obesity        2019-08-20   \n",
       "2    DaNnY sMitH   76  Female         A-           Obesity        2022-09-22   \n",
       "3   andrEw waTtS   28  Female         O+          Diabetes        2020-11-18   \n",
       "4  adrIENNE bEll   43  Female        AB+            Cancer        2022-09-19   \n",
       "\n",
       "             Doctor                    Hospital Insurance Provider  \\\n",
       "0     Matthew Smith             Sons and Miller         Blue Cross   \n",
       "1   Samantha Davies                     Kim Inc           Medicare   \n",
       "2  Tiffany Mitchell                    Cook PLC              Aetna   \n",
       "3       Kevin Wells  Hernandez Rogers and Vang,           Medicare   \n",
       "4    Kathleen Hanna                 White-White              Aetna   \n",
       "\n",
       "   Billing Amount  Room Number Admission Type Discharge Date   Medication  \\\n",
       "0        18856.28          328         Urgent     2024-02-02  Paracetamol   \n",
       "1        33643.33          265      Emergency     2019-08-26    Ibuprofen   \n",
       "2        27955.10          205      Emergency     2022-10-07      Aspirin   \n",
       "3        37909.78          450       Elective     2020-12-18    Ibuprofen   \n",
       "4        14238.32          458         Urgent     2022-10-09   Penicillin   \n",
       "\n",
       "   Test Results  \n",
       "0        Normal  \n",
       "1  Inconclusive  \n",
       "2        Normal  \n",
       "3      Abnormal  \n",
       "4      Abnormal  "
      ]
     },
     "execution_count": 30,
     "metadata": {},
     "output_type": "execute_result"
    }
   ],
   "source": [
    "df.head()"
   ]
  },
  {
   "cell_type": "code",
   "execution_count": 31,
   "metadata": {},
   "outputs": [],
   "source": [
    "# Normalizing the Name column\n",
    "df['Name'] = df['Name'].str.title()"
   ]
  },
  {
   "cell_type": "code",
   "execution_count": 32,
   "metadata": {},
   "outputs": [],
   "source": [
    "# Fixing some naming issues\n",
    "df['Name'] = df['Name'].str.replace(' Md', '')\n",
    "df['Name'] = df['Name'].str.replace('Jr.', ' Jr')\n",
    "df['Name'] = df['Name'].str.replace(' Dds', '')\n",
    "df['Name'] = df['Name'].str.replace(' Iii', ' III')"
   ]
  },
  {
   "cell_type": "code",
   "execution_count": 33,
   "metadata": {},
   "outputs": [
    {
     "data": {
      "application/vnd.microsoft.datawrangler.viewer.v0+json": {
       "columns": [
        {
         "name": "index",
         "rawType": "int64",
         "type": "integer"
        },
        {
         "name": "Name",
         "rawType": "object",
         "type": "string"
        },
        {
         "name": "Age",
         "rawType": "int64",
         "type": "integer"
        },
        {
         "name": "Gender",
         "rawType": "object",
         "type": "string"
        },
        {
         "name": "Blood Type",
         "rawType": "object",
         "type": "string"
        },
        {
         "name": "Medical Condition",
         "rawType": "object",
         "type": "string"
        },
        {
         "name": "Date of Admission",
         "rawType": "object",
         "type": "string"
        },
        {
         "name": "Doctor",
         "rawType": "object",
         "type": "string"
        },
        {
         "name": "Hospital",
         "rawType": "object",
         "type": "string"
        },
        {
         "name": "Insurance Provider",
         "rawType": "object",
         "type": "string"
        },
        {
         "name": "Billing Amount",
         "rawType": "float64",
         "type": "float"
        },
        {
         "name": "Room Number",
         "rawType": "int64",
         "type": "integer"
        },
        {
         "name": "Admission Type",
         "rawType": "object",
         "type": "string"
        },
        {
         "name": "Discharge Date",
         "rawType": "object",
         "type": "string"
        },
        {
         "name": "Medication",
         "rawType": "object",
         "type": "string"
        },
        {
         "name": "Test Results",
         "rawType": "object",
         "type": "string"
        }
       ],
       "conversionMethod": "pd.DataFrame",
       "ref": "30b1ec63-ba87-4d1b-96bd-4dc94cee330c",
       "rows": [
        [
         "0",
         "Bobby Jackson",
         "30",
         "Male",
         "B-",
         "Cancer",
         "2024-01-31",
         "Matthew Smith",
         "Sons and Miller",
         "Blue Cross",
         "18856.28",
         "328",
         "Urgent",
         "2024-02-02",
         "Paracetamol",
         "Normal"
        ],
        [
         "1",
         "Leslie Terry",
         "62",
         "Male",
         "A+",
         "Obesity",
         "2019-08-20",
         "Samantha Davies",
         "Kim Inc",
         "Medicare",
         "33643.33",
         "265",
         "Emergency",
         "2019-08-26",
         "Ibuprofen",
         "Inconclusive"
        ],
        [
         "2",
         "Danny Smith",
         "76",
         "Female",
         "A-",
         "Obesity",
         "2022-09-22",
         "Tiffany Mitchell",
         "Cook PLC",
         "Aetna",
         "27955.1",
         "205",
         "Emergency",
         "2022-10-07",
         "Aspirin",
         "Normal"
        ],
        [
         "3",
         "Andrew Watts",
         "28",
         "Female",
         "O+",
         "Diabetes",
         "2020-11-18",
         "Kevin Wells",
         "Hernandez Rogers and Vang,",
         "Medicare",
         "37909.78",
         "450",
         "Elective",
         "2020-12-18",
         "Ibuprofen",
         "Abnormal"
        ],
        [
         "4",
         "Adrienne Bell",
         "43",
         "Female",
         "AB+",
         "Cancer",
         "2022-09-19",
         "Kathleen Hanna",
         "White-White",
         "Aetna",
         "14238.32",
         "458",
         "Urgent",
         "2022-10-09",
         "Penicillin",
         "Abnormal"
        ]
       ],
       "shape": {
        "columns": 15,
        "rows": 5
       }
      },
      "text/html": [
       "<div>\n",
       "<style scoped>\n",
       "    .dataframe tbody tr th:only-of-type {\n",
       "        vertical-align: middle;\n",
       "    }\n",
       "\n",
       "    .dataframe tbody tr th {\n",
       "        vertical-align: top;\n",
       "    }\n",
       "\n",
       "    .dataframe thead th {\n",
       "        text-align: right;\n",
       "    }\n",
       "</style>\n",
       "<table border=\"1\" class=\"dataframe\">\n",
       "  <thead>\n",
       "    <tr style=\"text-align: right;\">\n",
       "      <th></th>\n",
       "      <th>Name</th>\n",
       "      <th>Age</th>\n",
       "      <th>Gender</th>\n",
       "      <th>Blood Type</th>\n",
       "      <th>Medical Condition</th>\n",
       "      <th>Date of Admission</th>\n",
       "      <th>Doctor</th>\n",
       "      <th>Hospital</th>\n",
       "      <th>Insurance Provider</th>\n",
       "      <th>Billing Amount</th>\n",
       "      <th>Room Number</th>\n",
       "      <th>Admission Type</th>\n",
       "      <th>Discharge Date</th>\n",
       "      <th>Medication</th>\n",
       "      <th>Test Results</th>\n",
       "    </tr>\n",
       "  </thead>\n",
       "  <tbody>\n",
       "    <tr>\n",
       "      <th>0</th>\n",
       "      <td>Bobby Jackson</td>\n",
       "      <td>30</td>\n",
       "      <td>Male</td>\n",
       "      <td>B-</td>\n",
       "      <td>Cancer</td>\n",
       "      <td>2024-01-31</td>\n",
       "      <td>Matthew Smith</td>\n",
       "      <td>Sons and Miller</td>\n",
       "      <td>Blue Cross</td>\n",
       "      <td>18856.28</td>\n",
       "      <td>328</td>\n",
       "      <td>Urgent</td>\n",
       "      <td>2024-02-02</td>\n",
       "      <td>Paracetamol</td>\n",
       "      <td>Normal</td>\n",
       "    </tr>\n",
       "    <tr>\n",
       "      <th>1</th>\n",
       "      <td>Leslie Terry</td>\n",
       "      <td>62</td>\n",
       "      <td>Male</td>\n",
       "      <td>A+</td>\n",
       "      <td>Obesity</td>\n",
       "      <td>2019-08-20</td>\n",
       "      <td>Samantha Davies</td>\n",
       "      <td>Kim Inc</td>\n",
       "      <td>Medicare</td>\n",
       "      <td>33643.33</td>\n",
       "      <td>265</td>\n",
       "      <td>Emergency</td>\n",
       "      <td>2019-08-26</td>\n",
       "      <td>Ibuprofen</td>\n",
       "      <td>Inconclusive</td>\n",
       "    </tr>\n",
       "    <tr>\n",
       "      <th>2</th>\n",
       "      <td>Danny Smith</td>\n",
       "      <td>76</td>\n",
       "      <td>Female</td>\n",
       "      <td>A-</td>\n",
       "      <td>Obesity</td>\n",
       "      <td>2022-09-22</td>\n",
       "      <td>Tiffany Mitchell</td>\n",
       "      <td>Cook PLC</td>\n",
       "      <td>Aetna</td>\n",
       "      <td>27955.10</td>\n",
       "      <td>205</td>\n",
       "      <td>Emergency</td>\n",
       "      <td>2022-10-07</td>\n",
       "      <td>Aspirin</td>\n",
       "      <td>Normal</td>\n",
       "    </tr>\n",
       "    <tr>\n",
       "      <th>3</th>\n",
       "      <td>Andrew Watts</td>\n",
       "      <td>28</td>\n",
       "      <td>Female</td>\n",
       "      <td>O+</td>\n",
       "      <td>Diabetes</td>\n",
       "      <td>2020-11-18</td>\n",
       "      <td>Kevin Wells</td>\n",
       "      <td>Hernandez Rogers and Vang,</td>\n",
       "      <td>Medicare</td>\n",
       "      <td>37909.78</td>\n",
       "      <td>450</td>\n",
       "      <td>Elective</td>\n",
       "      <td>2020-12-18</td>\n",
       "      <td>Ibuprofen</td>\n",
       "      <td>Abnormal</td>\n",
       "    </tr>\n",
       "    <tr>\n",
       "      <th>4</th>\n",
       "      <td>Adrienne Bell</td>\n",
       "      <td>43</td>\n",
       "      <td>Female</td>\n",
       "      <td>AB+</td>\n",
       "      <td>Cancer</td>\n",
       "      <td>2022-09-19</td>\n",
       "      <td>Kathleen Hanna</td>\n",
       "      <td>White-White</td>\n",
       "      <td>Aetna</td>\n",
       "      <td>14238.32</td>\n",
       "      <td>458</td>\n",
       "      <td>Urgent</td>\n",
       "      <td>2022-10-09</td>\n",
       "      <td>Penicillin</td>\n",
       "      <td>Abnormal</td>\n",
       "    </tr>\n",
       "  </tbody>\n",
       "</table>\n",
       "</div>"
      ],
      "text/plain": [
       "            Name  Age  Gender Blood Type Medical Condition Date of Admission  \\\n",
       "0  Bobby Jackson   30    Male         B-            Cancer        2024-01-31   \n",
       "1   Leslie Terry   62    Male         A+           Obesity        2019-08-20   \n",
       "2    Danny Smith   76  Female         A-           Obesity        2022-09-22   \n",
       "3   Andrew Watts   28  Female         O+          Diabetes        2020-11-18   \n",
       "4  Adrienne Bell   43  Female        AB+            Cancer        2022-09-19   \n",
       "\n",
       "             Doctor                    Hospital Insurance Provider  \\\n",
       "0     Matthew Smith             Sons and Miller         Blue Cross   \n",
       "1   Samantha Davies                     Kim Inc           Medicare   \n",
       "2  Tiffany Mitchell                    Cook PLC              Aetna   \n",
       "3       Kevin Wells  Hernandez Rogers and Vang,           Medicare   \n",
       "4    Kathleen Hanna                 White-White              Aetna   \n",
       "\n",
       "   Billing Amount  Room Number Admission Type Discharge Date   Medication  \\\n",
       "0        18856.28          328         Urgent     2024-02-02  Paracetamol   \n",
       "1        33643.33          265      Emergency     2019-08-26    Ibuprofen   \n",
       "2        27955.10          205      Emergency     2022-10-07      Aspirin   \n",
       "3        37909.78          450       Elective     2020-12-18    Ibuprofen   \n",
       "4        14238.32          458         Urgent     2022-10-09   Penicillin   \n",
       "\n",
       "   Test Results  \n",
       "0        Normal  \n",
       "1  Inconclusive  \n",
       "2        Normal  \n",
       "3      Abnormal  \n",
       "4      Abnormal  "
      ]
     },
     "execution_count": 33,
     "metadata": {},
     "output_type": "execute_result"
    }
   ],
   "source": [
    "df.head()"
   ]
  },
  {
   "cell_type": "code",
   "execution_count": 34,
   "metadata": {},
   "outputs": [],
   "source": [
    "# Dropping the room number column\n",
    "df = df.drop(columns=['Room Number'])"
   ]
  },
  {
   "cell_type": "code",
   "execution_count": 35,
   "metadata": {},
   "outputs": [],
   "source": [
    "# Converting the Date of Admission column to datetime\n",
    "df['Date of Admission'] = pd.to_datetime(df['Date of Admission'])"
   ]
  },
  {
   "cell_type": "code",
   "execution_count": 36,
   "metadata": {},
   "outputs": [],
   "source": [
    "# Converting the Date of Discharge column to datetime\n",
    "df['Discharge Date'] = pd.to_datetime(df['Discharge Date'])"
   ]
  },
  {
   "cell_type": "code",
   "execution_count": 37,
   "metadata": {},
   "outputs": [],
   "source": [
    "# Creating a column to calculate the length of stay\n",
    "df['Length of Stay'] = df['Discharge Date'] - df['Date of Admission']\n",
    "\n",
    "#Converting the length of stay to a number\n",
    "df['Length of Stay'] = df['Length of Stay'].dt.days"
   ]
  },
  {
   "cell_type": "code",
   "execution_count": 38,
   "metadata": {},
   "outputs": [],
   "source": [
    "# Detecting readmissions\n",
    "df['Readmitted'] = df['Name'].duplicated()"
   ]
  },
  {
   "cell_type": "code",
   "execution_count": 39,
   "metadata": {},
   "outputs": [],
   "source": [
    "# Counting the total number of times each patient has been to hospital and putting it in the readmitted column\n",
    "df['# of Times Readmitted'] = df.groupby('Name')['Name'].transform('count')"
   ]
  },
  {
   "cell_type": "code",
   "execution_count": 40,
   "metadata": {},
   "outputs": [],
   "source": [
    "# Saving the cleaned data to a new csv file\n",
    "df.to_csv('healthcare_dataset_cleaned.csv', index=False)"
   ]
  },
  {
   "cell_type": "code",
   "execution_count": 41,
   "metadata": {},
   "outputs": [],
   "source": [
    "import random\n",
    "\n",
    "# Adding in more conditions and giving them random weights.\n",
    "conditions = [\n",
    "    'Diabetes', 'Hypertension', 'Asthma', 'Cancer', 'HIV', 'Malaria', 'Tuberculosis', 'Pneumonia', 'Bronchitis', 'Arthritis',\n",
    "    'Osteoporosis', 'Heart Disease', 'Stroke', 'Kidney Disease', 'Liver Disease', 'Obesity', 'Anemia', 'Epilepsy', 'Migraine',\n",
    "    \"Alzheimer's Disease\", 'Parkinson\\'s Disease', 'Multiple Sclerosis', 'Lupus', 'Sickle Cell Disease', 'Cystic Fibrosis',\n",
    "    'Chronic Fatigue Syndrome', 'Fibromyalgia', 'Rheumatoid Arthritis', 'Chronic Obstructive Pulmonary Disease', 'Endometriosis',\n",
    "    'Polycystic Ovary Syndrome', 'Hypothyroidism', 'Hyperthyroidism', 'Gout', 'Glaucoma', 'Cataracts', 'Macular Degeneration',\n",
    "    'Retinal Detachment', 'Retinitis Pigmentosa', 'Color Blindness', 'Hearing Loss', 'Tinnitus', 'Vertigo', 'Meniere\\'s Disease',\n",
    "    'Motion Sickness', 'Insomnia', 'Sleep Apnea', 'Narcolepsy'\n",
    "]\n",
    "\n",
    "weights = [\n",
    "    0.200, 0.150, 0.100, 0.050, 0.040, 0.030, 0.025, 0.020, 0.018, 0.017,\n",
    "    0.016, 0.015, 0.014, 0.013, 0.012, 0.011, 0.010, 0.009, 0.008, 0.007,\n",
    "    0.006, 0.005, 0.004, 0.003, 0.002, 0.001, 0.001, 0.001, 0.001, 0.001,\n",
    "    0.001, 0.001, 0.001, 0.001, 0.001, 0.001, 0.001, 0.001, 0.001, 0.001,\n",
    "    0.001, 0.001, 0.001, 0.001, 0.001, 0.001, 0.001, 0.001\n",
    "]\n",
    "\n",
    "df['Medical Condition'] = random.choices(conditions, weights=weights, k=len(df))"
   ]
  },
  {
   "cell_type": "code",
   "execution_count": 42,
   "metadata": {},
   "outputs": [],
   "source": [
    "# I want to make 50 fake hopsital names and replace them with the hospitals in the dataset\n",
    "hospitals = [\n",
    "    \"Riverside General Hospital\", \"Summit Medical Center\", \"Grandview Health System\",\n",
    "    \"Oakwood Community Hospital\", \"Evergreen Regional Medical Center\", \"Harmony Valley Hospital\",\n",
    "    \"Crestview Medical Institute\", \"Pioneer Healthcare Center\", \"Northgate Memorial Hospital\",\n",
    "    \"Sunridge Medical Plaza\"\n",
    "]\n",
    "weights = [0.172, 0.145, 0.133, 0.121, 0.110, 0.098, 0.087, 0.065, 0.037, 0.032]\n",
    "df['Hospital'] = random.choices(hospitals, weights=weights, k=len(df))\n"
   ]
  },
  {
   "cell_type": "code",
   "execution_count": 43,
   "metadata": {},
   "outputs": [],
   "source": [
    "# I want the Admission types to be more spread out in terms of % of each type, I dont want them all to be equal amounts\n",
    "\n",
    "# Define admission types and their corresponding weights\n",
    "admission_types = ['Emergency', 'Urgent', 'Elective', 'Newborn', 'Trauma']\n",
    "weights = [0.421, 0.179, 0.222, 0.128, 0.050]\n",
    "\n",
    "# Generate admission types based on the specified weights\n",
    "df['Admission Type'] = random.choices(admission_types, weights=weights, k=len(df))"
   ]
  },
  {
   "cell_type": "code",
   "execution_count": 44,
   "metadata": {},
   "outputs": [],
   "source": [
    "# Removing the doctor's name column\n",
    "df = df.drop(columns=['Doctor'])"
   ]
  },
  {
   "cell_type": "code",
   "execution_count": 45,
   "metadata": {},
   "outputs": [],
   "source": [
    "# Randomizing the blood type column\n",
    "# Define blood types and their corresponding weights\n",
    "import numpy as np\n",
    "\n",
    "blood_types = ['A+', 'A-', 'B+', 'B-', 'AB+', 'AB-', 'O+', 'O-']\n",
    "blood_type_weights = [0.34, 0.06, 0.09, 0.02, 0.04, 0.01, 0.37, 0.07]\n",
    "\n",
    "# Create a dictionary to store the blood type for each name\n",
    "name_to_blood_type = {}\n",
    "\n",
    "# Assign random blood type to each unique name with weights\n",
    "for name in df['Name'].unique():\n",
    "    name_to_blood_type[name] = np.random.choice(blood_types, p=blood_type_weights)\n",
    "\n",
    "# Map the blood type to each record based on the name\n",
    "df['Blood Type'] = df['Name'].map(name_to_blood_type)"
   ]
  },
  {
   "cell_type": "code",
   "execution_count": 46,
   "metadata": {},
   "outputs": [],
   "source": [
    "# Define possible genders and their weights\n",
    "genders = ['Male', 'Female', 'Other', 'Non-Conforming']\n",
    "gender_weights = [0.42, 0.39, 0.08, 0.11]\n",
    "\n",
    "# Create a dictionary to store the gender for each name\n",
    "name_to_gender = {}\n",
    "\n",
    "# Assign random gender to each unique name with weights\n",
    "for name in df['Name'].unique():\n",
    "    name_to_gender[name] = np.random.choice(genders, p=gender_weights)\n",
    "\n",
    "# Map the gender to each record based on the name\n",
    "df['Gender'] = df['Name'].map(name_to_gender)"
   ]
  },
  {
   "cell_type": "code",
   "execution_count": 47,
   "metadata": {},
   "outputs": [],
   "source": [
    "# Randomizing the age to show more of a bell curve with the peak at 40-70\n",
    "# Generate random ages between 0 and 100\n",
    "import numpy as np\n",
    "\n",
    "# Define age ranges and their corresponding probabilities\n",
    "age_ranges = [(0, 9), (10, 19), (20, 29), (30, 39), (40, 49), (50, 59), (60, 69), (70, 79), (80, 89), (90, 99)]\n",
    "age_weights = [0.10, 0.05, 0.05, 0.05, 0.10, 0.20, 0.20, 0.15, 0.08, 0.02]\n",
    "\n",
    "# Create a dictionary to store the age for each name\n",
    "name_to_age = {}\n",
    "\n",
    "# Assign random age to each unique name within the specified ranges and probabilities\n",
    "for name in df['Name'].unique():\n",
    "    age_range = np.random.choice(len(age_ranges), p=age_weights)\n",
    "    name_to_age[name] = np.random.randint(age_ranges[age_range][0], age_ranges[age_range][1] + 1)\n",
    "\n",
    "# Map the age to each record based on the name\n",
    "df['Age'] = df['Name'].map(name_to_age)"
   ]
  },
  {
   "cell_type": "code",
   "execution_count": 48,
   "metadata": {},
   "outputs": [],
   "source": [
    "import numpy as np\n",
    "\n",
    "# Generate a log-normal distribution for the billing amounts\n",
    "main_billing_amounts = np.random.lognormal(mean=10, sigma=1, size=int(len(df) * 0.95))\n",
    "\n",
    "# Scale the values to the desired range (100 to 90,000)\n",
    "main_billing_amounts = 100 + (main_billing_amounts - main_billing_amounts.min()) * (90000 - 100) / (main_billing_amounts.max() - main_billing_amounts.min())\n",
    "\n",
    "# Generate outliers\n",
    "outliers = np.random.lognormal(mean=12, sigma=1, size=int(len(df) * 0.05))\n",
    "\n",
    "# Scale the outliers to the desired range (100 to 90,000)\n",
    "outliers = 100 + (outliers - outliers.min()) * (90000 - 100) / (outliers.max() - outliers.min())\n",
    "\n",
    "# Combine the main billing amounts and outliers\n",
    "billing_amounts = np.concatenate([main_billing_amounts, outliers])\n",
    "\n",
    "# Shuffle the billing amounts to mix the outliers with the main data\n",
    "np.random.shuffle(billing_amounts)\n",
    "\n",
    "# Assign the billing amounts to the DataFrame\n",
    "df['Billing Amount'] = billing_amounts\n",
    "\n",
    "df['Billing Amount'] = billing_amounts.round(2)"
   ]
  },
  {
   "cell_type": "code",
   "execution_count": 49,
   "metadata": {},
   "outputs": [],
   "source": [
    "# Add in coluimn for doctor's name\n",
    "doctors = ['Dr. John Doe', 'Dr. Jane Smith', 'Dr. Michael Johnson', 'Dr. Sarah Williams', 'Dr. Robert Brown', 'Dr. Lisa Jones', 'Dr. William Davis', 'Dr. Karen Miller', 'Dr. Richard Wilson', 'Dr. Nancy Moore']\n",
    "df['Doctor'] = random.choices(doctors, k=len(df))"
   ]
  },
  {
   "cell_type": "code",
   "execution_count": 50,
   "metadata": {},
   "outputs": [],
   "source": [
    "insurance_companies = ['Aetna', 'Anthem', 'Blue Cross Blue Shield', 'Cigna', 'Humana', 'UnitedHealthcare', 'Kaiser Permanente', 'Molina Healthcare', 'Centene', 'Oscar Health']\n",
    "weights = [0.20, 0.18, 0.15, 0.12, 0.10, 0.08, 0.07, 0.05, 0.03, 0.02]\n",
    "\n",
    "# Generate blood types based on the specified weights\n",
    "df['Insurance Provider'] = random.choices(insurance_companies, weights=weights, k=len(df))"
   ]
  },
  {
   "cell_type": "code",
   "execution_count": 51,
   "metadata": {},
   "outputs": [],
   "source": [
    "races = ['Asian', 'Black', 'Hispanic', 'White', 'Other']\n",
    "\n",
    "# Create a dictionary to store the race for each name\n",
    "name_to_race = {}\n",
    "\n",
    "# Assign random race to each unique name\n",
    "for name in df['Name'].unique():\n",
    "    name_to_race[name] = random.choices(races, weights=[0.27, 0.21, 0.25, 0.61, 0.11])[0]\n",
    "\n",
    "# Map the race to each record based on the name\n",
    "df['Race'] = df['Name'].map(name_to_race)"
   ]
  },
  {
   "cell_type": "code",
   "execution_count": 52,
   "metadata": {},
   "outputs": [],
   "source": [
    "# Changing the distrubution of the test results\n",
    "# Define possible test results and their weights\n",
    "test_results = ['Normal', 'Abnormal', 'Inconclusive']\n",
    "weights = [0.70, 0.20, 0.10]\n",
    "\n",
    "# Generate test results based on the specified weights\n",
    "df['Test Results'] = random.choices(test_results, weights=weights, k=len(df))"
   ]
  },
  {
   "cell_type": "code",
   "execution_count": 53,
   "metadata": {},
   "outputs": [],
   "source": [
    "#Adding in a patient outcome column\n",
    "outcomes = ['Discharged', 'Transferred']\n",
    "weights = [0.87, 0.13]\n",
    "\n",
    "# Generate patient outcomes based on the specified weights\n",
    "df['Patient Outcome'] = random.choices(outcomes, weights=weights, k=len(df))"
   ]
  },
  {
   "cell_type": "code",
   "execution_count": null,
   "metadata": {},
   "outputs": [],
   "source": [
    "# Adding doctor column\n",
    "doctors = ['Dr. John Doe', 'Dr. Jane Smith', 'Dr. Michael Johnson', 'Dr. Sarah Williams', 'Dr. Robert Brown', 'Dr. Lisa Jones', 'Dr. William Davis', 'Dr. Karen Miller', 'Dr. Richard Wilson', 'Dr. Nancy Moore']\n",
    "df['Doctor'] = random.choices(doctors, k=len(df))"
   ]
  },
  {
   "cell_type": "code",
   "execution_count": 56,
   "metadata": {},
   "outputs": [],
   "source": [
    "# Changing readmitted column to say \"Readmitted\" or \"Not Readmitted\"\n",
    "df['Readmitted'] = df['Readmitted'].map({True: 'Readmitted', False: 'Not Readmitted'})\n",
    "\n",
    "# Determine if any row for each name has been readmitted\n",
    "name_readmitted = df.groupby('Name')['Readmitted'].transform(lambda x: 'Readmitted' if 'Readmitted' in x.values else 'Not Readmitted')\n",
    "\n",
    "# Map the result back to the DataFrame\n",
    "df['Readmitted'] = name_readmitted"
   ]
  },
  {
   "cell_type": "code",
   "execution_count": 57,
   "metadata": {},
   "outputs": [],
   "source": [
    "# Saving the updated dataset to a new csv file\n",
    "df.to_csv('healthcare_dataset_cleaned.csv', index=False)"
   ]
  }
 ],
 "metadata": {
  "kernelspec": {
   "display_name": "Python 3",
   "language": "python",
   "name": "python3"
  },
  "language_info": {
   "codemirror_mode": {
    "name": "ipython",
    "version": 3
   },
   "file_extension": ".py",
   "mimetype": "text/x-python",
   "name": "python",
   "nbconvert_exporter": "python",
   "pygments_lexer": "ipython3",
   "version": "3.12.3"
  }
 },
 "nbformat": 4,
 "nbformat_minor": 2
}
